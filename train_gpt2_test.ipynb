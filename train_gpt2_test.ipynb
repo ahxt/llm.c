{
 "cells": [
  {
   "cell_type": "code",
   "execution_count": 3,
   "metadata": {},
   "outputs": [
    {
     "name": "stdout",
     "output_type": "stream",
     "text": [
      "Input X:\n",
      " tensor([[ 0.1000, -0.2000,  0.3000,  0.4000],\n",
      "        [ 0.5000, -0.6000,  0.7000,  0.8000],\n",
      "        [ 0.9000,  1.0000, -1.1000,  1.2000]], requires_grad=True)\n",
      "Weight W:\n",
      " tensor([[0.1000, 0.2000, 0.3000, 0.4000],\n",
      "        [0.5000, 0.6000, 0.7000, 0.8000]], requires_grad=True)\n",
      "Bias B:\n",
      " tensor([ 0.1000, -0.1000], requires_grad=True)\n",
      "Output Y:\n",
      " tensor([[0.3200, 0.3600],\n",
      "        [0.5600, 0.9200],\n",
      "        [0.5400, 1.1400]], grad_fn=<AddBackward0>)\n",
      "Specified gradient for Y (dy):\n",
      " tensor([[1., 1.],\n",
      "        [1., 1.],\n",
      "        [1., 1.]])\n",
      "Gradient w.r.t. X (dx):\n",
      " tensor([[0.6000, 0.8000, 1.0000, 1.2000],\n",
      "        [0.6000, 0.8000, 1.0000, 1.2000],\n",
      "        [0.6000, 0.8000, 1.0000, 1.2000]])\n",
      "Gradient w.r.t. Weights (dw):\n",
      " tensor([[ 1.5000,  0.2000, -0.1000,  2.4000],\n",
      "        [ 1.5000,  0.2000, -0.1000,  2.4000]])\n",
      "Gradient w.r.t. Biases (db):\n",
      " tensor([3., 3.])\n"
     ]
    }
   ],
   "source": [
    "import torch\n",
    "\n",
    "def test_matmul():\n",
    "    # Dimensions for matrix multiplication\n",
    "    B, T, C, OC = 1, 3, 4, 2\n",
    "    \n",
    "    # Define inputs, weights, and biases with predefined values and set requires_grad\n",
    "    x = torch.tensor([[0.1, -0.2, 0.3, 0.4],\n",
    "                      [0.5, -0.6, 0.7, 0.8],\n",
    "                      [0.9, 1.0, -1.1, 1.2]], dtype=torch.float32, requires_grad=True)\n",
    "    w = torch.tensor([[0.1, 0.2, 0.3, 0.4],\n",
    "                      [0.5, 0.6, 0.7, 0.8]], dtype=torch.float32, requires_grad=True)\n",
    "    b = torch.tensor([0.1, -0.1], dtype=torch.float32, requires_grad=True)\n",
    "    \n",
    "    # Forward pass: Compute output\n",
    "    y = torch.matmul(x, w.t()) + b\n",
    "\n",
    "    # Create a specific gradient for the output y\n",
    "    # dy = torch.ones_like(y)  # Example gradient, can be modified as needed 0.1, -0.2, -1.0, -0.8, 1.0, 1.0\n",
    "    dy = torch.tensor([[0.1, -0.2],\n",
    "                       [-1.0, -0.8],\n",
    "                       [1.0, 1.0]], dtype=torch.float32)\n",
    "    \n",
    "\n",
    "    # Backward pass: Apply the specified gradient dy\n",
    "    y.backward(gradient=dy)\n",
    "\n",
    "    # Output results\n",
    "    print(\"Input X:\\n\", x)\n",
    "    print(\"Weight W:\\n\", w)\n",
    "    print(\"Bias B:\\n\", b)\n",
    "    print(\"Output Y:\\n\", y)\n",
    "    print(\"Specified gradient for Y (dy):\\n\", dy)\n",
    "    print(\"Gradient w.r.t. X (dx):\\n\", x.grad)\n",
    "    print(\"Gradient w.r.t. Weights (dw):\\n\", w.grad)\n",
    "    print(\"Gradient w.r.t. Biases (db):\\n\", b.grad)\n",
    "\n",
    "if __name__ == \"__main__\":\n",
    "    test_matmul()\n"
   ]
  },
  {
   "cell_type": "code",
   "execution_count": 9,
   "metadata": {},
   "outputs": [],
   "source": [
    "import torch\n",
    "\n",
    "def test_layernorm():\n",
    "    # Dimensions for LayerNorm\n",
    "    B, T, C = 1, 3, 4\n",
    "    \n",
    "    # Define inputs, weights, and biases with predefined values and set requires_grad\n",
    "    x = torch.tensor([[0.1, -0.2, 0.3, 0.4],\n",
    "                      [0.5, -0.6, 0.7, 0.8],\n",
    "                      [0.9, 1.0, -1.1, 1.2]], dtype=torch.float32, requires_grad=True)\n",
    "    \n",
    "    # Forward pass: Compute output\n",
    "    y = torch.nn.LayerNorm(3)\n",
    "    y = y(x)\n",
    "    print(y)\n",
    "\n",
    "    # Create a specific gradient for the output y\n",
    "    dy = torch.tensor([[0.1, -0.2, 0.3, 0.4],\n",
    "                       [0.5, -0.6, 0.7, 0.8],\n",
    "                       [0.9, 1.0, -1.1, 1.2]], dtype=torch.float32)\n",
    "    \n",
    "    # Backward pass: Apply the specified gradient dy\n",
    "    y.backward(gradient=dy)\n",
    "\n",
    "    # Output results\n",
    "    print(\"Input X:\\n\", x)\n",
    "    print(\"Output Y:\\n\", y)\n",
    "    print(\"Specified gradient for Y (dy):\\n\", dy)\n",
    "    print(\"Gradient w.r.t. X (dx):\\n\", x.grad)"
   ]
  },
  {
   "cell_type": "code",
   "execution_count": 13,
   "metadata": {},
   "outputs": [
    {
     "name": "stdout",
     "output_type": "stream",
     "text": [
      "torch.Size([20, 5, 10, 10])\n",
      "torch.Size([5, 10, 10])\n"
     ]
    }
   ],
   "source": [
    "# Image Example\n",
    "N, C, H, W = 20, 5, 10, 10\n",
    "input = torch.randn(N, C, H, W)\n",
    "# Normalize over the last three dimensions (i.e. the channel and spatial dimensions)\n",
    "# as shown in the image below\n",
    "layer_norm = torch.nn.LayerNorm([C, H, W])\n",
    "output = layer_norm(input)\n",
    "\n",
    "print(output.shape)  # torch.Size([20, 5, 10, 10])\n",
    "print(layer_norm.weight.shape)  # torch.Size([5])"
   ]
  },
  {
   "cell_type": "code",
   "execution_count": null,
   "metadata": {},
   "outputs": [],
   "source": []
  }
 ],
 "metadata": {
  "kernelspec": {
   "display_name": "Python 3",
   "language": "python",
   "name": "python3"
  },
  "language_info": {
   "codemirror_mode": {
    "name": "ipython",
    "version": 3
   },
   "file_extension": ".py",
   "mimetype": "text/x-python",
   "name": "python",
   "nbconvert_exporter": "python",
   "pygments_lexer": "ipython3",
   "version": "3.8.16"
  }
 },
 "nbformat": 4,
 "nbformat_minor": 2
}
